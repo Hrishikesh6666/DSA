{
  "nbformat": 4,
  "nbformat_minor": 0,
  "metadata": {
    "colab": {
      "provenance": [],
      "authorship_tag": "ABX9TyOZaPLtk4BIVheOaHzYlljj",
      "include_colab_link": true
    },
    "kernelspec": {
      "name": "python3",
      "display_name": "Python 3"
    },
    "language_info": {
      "name": "python"
    }
  },
  "cells": [
    {
      "cell_type": "markdown",
      "metadata": {
        "id": "view-in-github",
        "colab_type": "text"
      },
      "source": [
        "<a href=\"https://colab.research.google.com/github/Hrishikesh6666/DSA/blob/main/Week_1.ipynb\" target=\"_parent\"><img src=\"https://colab.research.google.com/assets/colab-badge.svg\" alt=\"Open In Colab\"/></a>"
      ]
    },
    {
      "cell_type": "markdown",
      "source": [
        "Bacic Calculator Should Perform ADD ,SUM ,DIV ,MUL,SQURE"
      ],
      "metadata": {
        "id": "TLZbK_gAg3Pg"
      }
    },
    {
      "cell_type": "code",
      "execution_count": 2,
      "metadata": {
        "id": "0u4OLmfRgJrE"
      },
      "outputs": [],
      "source": [
        "A = 40\n",
        "B = 5"
      ]
    },
    {
      "cell_type": "code",
      "source": [
        "print (A+B)\n",
        "print (A-B)\n",
        "print (A/B)\n",
        "print (A//B)\n",
        "print (A*B)\n",
        "print (A**B)"
      ],
      "metadata": {
        "colab": {
          "base_uri": "https://localhost:8080/"
        },
        "id": "D2_wRGsphK-M",
        "outputId": "ac66ed76-4622-4bcc-8d13-15b23b5663a4"
      },
      "execution_count": 3,
      "outputs": [
        {
          "output_type": "stream",
          "name": "stdout",
          "text": [
            "45\n",
            "35\n",
            "8.0\n",
            "8\n",
            "200\n",
            "102400000\n"
          ]
        }
      ]
    },
    {
      "cell_type": "markdown",
      "source": [
        "String In Python"
      ],
      "metadata": {
        "id": "cSIgexyPwqIw"
      }
    },
    {
      "cell_type": "code",
      "source": [
        "# @title Default title text\n",
        "Text = \" Python Programming if fun ! \""
      ],
      "metadata": {
        "id": "vl6_5ARvwy7h"
      },
      "execution_count": 4,
      "outputs": []
    },
    {
      "cell_type": "code",
      "source": [
        "Text [:-6]"
      ],
      "metadata": {
        "colab": {
          "base_uri": "https://localhost:8080/",
          "height": 36
        },
        "id": "zjmrWyR1yp2L",
        "outputId": "ec53fdeb-a871-4500-ca4f-036a1bd8ae89"
      },
      "execution_count": 5,
      "outputs": [
        {
          "output_type": "execute_result",
          "data": {
            "text/plain": [
              "' Python Programming if '"
            ],
            "application/vnd.google.colaboratory.intrinsic+json": {
              "type": "string"
            }
          },
          "metadata": {},
          "execution_count": 5
        }
      ]
    },
    {
      "cell_type": "markdown",
      "source": [
        "Conditions In Python [IF/ELSE]"
      ],
      "metadata": {
        "id": "llRU-_ko9fOs"
      }
    },
    {
      "cell_type": "code",
      "source": [
        "# CODE FOR FINDING THE NUMBER IS [EVEN OR ODD]\n",
        "number = int(input(\"Enter a number : \" ))\n",
        "if (number % 2 == 0):\n",
        " print(\"Even\")\n",
        "if (number % 2 == 1):\n",
        "  print(\"ODD\")"
      ],
      "metadata": {
        "id": "ijlzsV4b6_g4",
        "colab": {
          "base_uri": "https://localhost:8080/"
        },
        "outputId": "4778d608-fc66-4c84-ab27-f141b4647c4d"
      },
      "execution_count": 6,
      "outputs": [
        {
          "output_type": "stream",
          "name": "stdout",
          "text": [
            "Enter a number : 56\n",
            "Even\n"
          ]
        }
      ]
    },
    {
      "cell_type": "markdown",
      "source": [
        "VOTE ELIGABILITY CHAKE"
      ],
      "metadata": {
        "id": "BbvX5Cwn-ooq"
      }
    },
    {
      "cell_type": "code",
      "source": [
        "# CODE FOR FINDING THE ELIGIBILITY OF VOTING IN INDIA using If and Else Condition\n",
        "number = int(input(\"Enter a AGE : \" ))\n",
        "if (number>=18 and number<=100):\n",
        " print(\"Eligible for Vote!\")\n",
        "else:\n",
        "  print(\"Not Eligible for Vote! \")"
      ],
      "metadata": {
        "id": "LO4ldgZm-tMD",
        "colab": {
          "base_uri": "https://localhost:8080/"
        },
        "outputId": "b855f588-39ee-4469-edb0-753a8e3fb517"
      },
      "execution_count": 7,
      "outputs": [
        {
          "output_type": "stream",
          "name": "stdout",
          "text": [
            "Enter a AGE : 20\n",
            "Eligible for Vote!\n"
          ]
        }
      ]
    },
    {
      "cell_type": "markdown",
      "source": [
        "Greading System Based On Marks"
      ],
      "metadata": {
        "id": "frdjzBHCBbur"
      }
    },
    {
      "cell_type": "code",
      "source": [
        "marks = int(input(\"Enter a Marks : \" ))\n",
        "# 95+    = A+\n",
        "# 90-95  = A\n",
        "# 80-89  = B+\n",
        "# 70-79  = B\n",
        "# 60-69  = C\n",
        "# 50-59  = D\n",
        "\n",
        "if (marks > 95):\n",
        "  print(\"+A\")\n",
        "elif (marks >= 90 and marks <=95):\n",
        "  print(\"A\")\n",
        "elif (marks >= 80 and marks <=89):\n",
        "  print(\"+B\")\n",
        "elif(marks >= 70 and marks <=79):\n",
        "  print(\"B\")\n",
        "elif (marks >= 60 and marks <=65):\n",
        "  print(\"C\")\n",
        "elif(marks >= 50 and marks <=55):\n",
        "  print(\"D\")\n",
        "\n"
      ],
      "metadata": {
        "id": "ZkVxkdz2BkBm",
        "colab": {
          "base_uri": "https://localhost:8080/"
        },
        "outputId": "54a4e773-f2bd-4931-d4eb-79776fe437ca"
      },
      "execution_count": 8,
      "outputs": [
        {
          "output_type": "stream",
          "name": "stdout",
          "text": [
            "Enter a Marks : 65\n",
            "C\n"
          ]
        }
      ]
    },
    {
      "cell_type": "markdown",
      "source": [
        "Loop in Python\n"
      ],
      "metadata": {
        "id": "ffyZZxwonYFs"
      }
    },
    {
      "cell_type": "code",
      "source": [
        "num = int(input(\"enter the Number : \"))\n",
        "for i in range (1,11):\n",
        "  print(num , \"*\",i ,\"=\",i*num)"
      ],
      "metadata": {
        "id": "N4eeM6-LnXAZ",
        "colab": {
          "base_uri": "https://localhost:8080/"
        },
        "outputId": "2d44a604-0fb5-43d3-cf2a-80670a400aee"
      },
      "execution_count": 9,
      "outputs": [
        {
          "output_type": "stream",
          "name": "stdout",
          "text": [
            "enter the Number : 8\n",
            "8 * 1 = 8\n",
            "8 * 2 = 16\n",
            "8 * 3 = 24\n",
            "8 * 4 = 32\n",
            "8 * 5 = 40\n",
            "8 * 6 = 48\n",
            "8 * 7 = 56\n",
            "8 * 8 = 64\n",
            "8 * 9 = 72\n",
            "8 * 10 = 80\n"
          ]
        }
      ]
    },
    {
      "cell_type": "markdown",
      "source": [
        "Loop Project Assignment\n"
      ],
      "metadata": {
        "id": "TrddqMdz7t5c"
      }
    },
    {
      "cell_type": "code",
      "source": [
        "for i in range(2, 101, 2):\n",
        "    print(i)\n"
      ],
      "metadata": {
        "id": "KkikcU8Q8Hnm",
        "colab": {
          "base_uri": "https://localhost:8080/"
        },
        "outputId": "69615f39-7aac-40ea-e5cd-f729481e8214"
      },
      "execution_count": 10,
      "outputs": [
        {
          "output_type": "stream",
          "name": "stdout",
          "text": [
            "2\n",
            "4\n",
            "6\n",
            "8\n",
            "10\n",
            "12\n",
            "14\n",
            "16\n",
            "18\n",
            "20\n",
            "22\n",
            "24\n",
            "26\n",
            "28\n",
            "30\n",
            "32\n",
            "34\n",
            "36\n",
            "38\n",
            "40\n",
            "42\n",
            "44\n",
            "46\n",
            "48\n",
            "50\n",
            "52\n",
            "54\n",
            "56\n",
            "58\n",
            "60\n",
            "62\n",
            "64\n",
            "66\n",
            "68\n",
            "70\n",
            "72\n",
            "74\n",
            "76\n",
            "78\n",
            "80\n",
            "82\n",
            "84\n",
            "86\n",
            "88\n",
            "90\n",
            "92\n",
            "94\n",
            "96\n",
            "98\n",
            "100\n"
          ]
        }
      ]
    },
    {
      "cell_type": "code",
      "source": [
        "for i in range (1,101):\n",
        "  print (i)"
      ],
      "metadata": {
        "id": "OY9G1ufL8HmD",
        "colab": {
          "base_uri": "https://localhost:8080/"
        },
        "outputId": "575d62a1-688c-46ae-daab-a02f7ef3edfa"
      },
      "execution_count": 11,
      "outputs": [
        {
          "output_type": "stream",
          "name": "stdout",
          "text": [
            "1\n",
            "2\n",
            "3\n",
            "4\n",
            "5\n",
            "6\n",
            "7\n",
            "8\n",
            "9\n",
            "10\n",
            "11\n",
            "12\n",
            "13\n",
            "14\n",
            "15\n",
            "16\n",
            "17\n",
            "18\n",
            "19\n",
            "20\n",
            "21\n",
            "22\n",
            "23\n",
            "24\n",
            "25\n",
            "26\n",
            "27\n",
            "28\n",
            "29\n",
            "30\n",
            "31\n",
            "32\n",
            "33\n",
            "34\n",
            "35\n",
            "36\n",
            "37\n",
            "38\n",
            "39\n",
            "40\n",
            "41\n",
            "42\n",
            "43\n",
            "44\n",
            "45\n",
            "46\n",
            "47\n",
            "48\n",
            "49\n",
            "50\n",
            "51\n",
            "52\n",
            "53\n",
            "54\n",
            "55\n",
            "56\n",
            "57\n",
            "58\n",
            "59\n",
            "60\n",
            "61\n",
            "62\n",
            "63\n",
            "64\n",
            "65\n",
            "66\n",
            "67\n",
            "68\n",
            "69\n",
            "70\n",
            "71\n",
            "72\n",
            "73\n",
            "74\n",
            "75\n",
            "76\n",
            "77\n",
            "78\n",
            "79\n",
            "80\n",
            "81\n",
            "82\n",
            "83\n",
            "84\n",
            "85\n",
            "86\n",
            "87\n",
            "88\n",
            "89\n",
            "90\n",
            "91\n",
            "92\n",
            "93\n",
            "94\n",
            "95\n",
            "96\n",
            "97\n",
            "98\n",
            "99\n",
            "100\n"
          ]
        }
      ]
    },
    {
      "cell_type": "code",
      "source": [
        "# Initialize a variable to store the sum\n",
        "sum_of_numbers = 0\n",
        "\n",
        "# Use a loop to iterate through the first 10 natural numbers\n",
        "for i in range(1, 11):\n",
        "    sum_of_numbers += i\n",
        "\n",
        "# Display the sum\n",
        "print(\"Sum of the first 10 natural numbers:\", sum_of_numbers)\n"
      ],
      "metadata": {
        "id": "h4XpLcrL90Ds",
        "colab": {
          "base_uri": "https://localhost:8080/"
        },
        "outputId": "0793a19d-f755-4b61-91df-de0726b59a50"
      },
      "execution_count": 12,
      "outputs": [
        {
          "output_type": "stream",
          "name": "stdout",
          "text": [
            "Sum of the first 10 natural numbers: 55\n"
          ]
        }
      ]
    },
    {
      "cell_type": "markdown",
      "source": [
        "NESTED FOR LOOP IN PYTHON"
      ],
      "metadata": {
        "id": "Yuw2O6_7AQBA"
      }
    },
    {
      "cell_type": "code",
      "source": [
        "# 3 Dice are roll probability of all posibility\n",
        "for dice_1 in range(1,7):\n",
        "  for dice_2 in range(1,7):\n",
        "    for dice_3 in range(1,7):\n",
        "\n",
        "         print('[',dice_1,',',dice_2,',',dice_3,']')\n"
      ],
      "metadata": {
        "id": "MH5SEWn2APb3",
        "colab": {
          "base_uri": "https://localhost:8080/"
        },
        "outputId": "6504fe8c-f2f1-4ac6-d477-ec45fb8ec5c1"
      },
      "execution_count": 13,
      "outputs": [
        {
          "output_type": "stream",
          "name": "stdout",
          "text": [
            "[ 1 , 1 , 1 ]\n",
            "[ 1 , 1 , 2 ]\n",
            "[ 1 , 1 , 3 ]\n",
            "[ 1 , 1 , 4 ]\n",
            "[ 1 , 1 , 5 ]\n",
            "[ 1 , 1 , 6 ]\n",
            "[ 1 , 2 , 1 ]\n",
            "[ 1 , 2 , 2 ]\n",
            "[ 1 , 2 , 3 ]\n",
            "[ 1 , 2 , 4 ]\n",
            "[ 1 , 2 , 5 ]\n",
            "[ 1 , 2 , 6 ]\n",
            "[ 1 , 3 , 1 ]\n",
            "[ 1 , 3 , 2 ]\n",
            "[ 1 , 3 , 3 ]\n",
            "[ 1 , 3 , 4 ]\n",
            "[ 1 , 3 , 5 ]\n",
            "[ 1 , 3 , 6 ]\n",
            "[ 1 , 4 , 1 ]\n",
            "[ 1 , 4 , 2 ]\n",
            "[ 1 , 4 , 3 ]\n",
            "[ 1 , 4 , 4 ]\n",
            "[ 1 , 4 , 5 ]\n",
            "[ 1 , 4 , 6 ]\n",
            "[ 1 , 5 , 1 ]\n",
            "[ 1 , 5 , 2 ]\n",
            "[ 1 , 5 , 3 ]\n",
            "[ 1 , 5 , 4 ]\n",
            "[ 1 , 5 , 5 ]\n",
            "[ 1 , 5 , 6 ]\n",
            "[ 1 , 6 , 1 ]\n",
            "[ 1 , 6 , 2 ]\n",
            "[ 1 , 6 , 3 ]\n",
            "[ 1 , 6 , 4 ]\n",
            "[ 1 , 6 , 5 ]\n",
            "[ 1 , 6 , 6 ]\n",
            "[ 2 , 1 , 1 ]\n",
            "[ 2 , 1 , 2 ]\n",
            "[ 2 , 1 , 3 ]\n",
            "[ 2 , 1 , 4 ]\n",
            "[ 2 , 1 , 5 ]\n",
            "[ 2 , 1 , 6 ]\n",
            "[ 2 , 2 , 1 ]\n",
            "[ 2 , 2 , 2 ]\n",
            "[ 2 , 2 , 3 ]\n",
            "[ 2 , 2 , 4 ]\n",
            "[ 2 , 2 , 5 ]\n",
            "[ 2 , 2 , 6 ]\n",
            "[ 2 , 3 , 1 ]\n",
            "[ 2 , 3 , 2 ]\n",
            "[ 2 , 3 , 3 ]\n",
            "[ 2 , 3 , 4 ]\n",
            "[ 2 , 3 , 5 ]\n",
            "[ 2 , 3 , 6 ]\n",
            "[ 2 , 4 , 1 ]\n",
            "[ 2 , 4 , 2 ]\n",
            "[ 2 , 4 , 3 ]\n",
            "[ 2 , 4 , 4 ]\n",
            "[ 2 , 4 , 5 ]\n",
            "[ 2 , 4 , 6 ]\n",
            "[ 2 , 5 , 1 ]\n",
            "[ 2 , 5 , 2 ]\n",
            "[ 2 , 5 , 3 ]\n",
            "[ 2 , 5 , 4 ]\n",
            "[ 2 , 5 , 5 ]\n",
            "[ 2 , 5 , 6 ]\n",
            "[ 2 , 6 , 1 ]\n",
            "[ 2 , 6 , 2 ]\n",
            "[ 2 , 6 , 3 ]\n",
            "[ 2 , 6 , 4 ]\n",
            "[ 2 , 6 , 5 ]\n",
            "[ 2 , 6 , 6 ]\n",
            "[ 3 , 1 , 1 ]\n",
            "[ 3 , 1 , 2 ]\n",
            "[ 3 , 1 , 3 ]\n",
            "[ 3 , 1 , 4 ]\n",
            "[ 3 , 1 , 5 ]\n",
            "[ 3 , 1 , 6 ]\n",
            "[ 3 , 2 , 1 ]\n",
            "[ 3 , 2 , 2 ]\n",
            "[ 3 , 2 , 3 ]\n",
            "[ 3 , 2 , 4 ]\n",
            "[ 3 , 2 , 5 ]\n",
            "[ 3 , 2 , 6 ]\n",
            "[ 3 , 3 , 1 ]\n",
            "[ 3 , 3 , 2 ]\n",
            "[ 3 , 3 , 3 ]\n",
            "[ 3 , 3 , 4 ]\n",
            "[ 3 , 3 , 5 ]\n",
            "[ 3 , 3 , 6 ]\n",
            "[ 3 , 4 , 1 ]\n",
            "[ 3 , 4 , 2 ]\n",
            "[ 3 , 4 , 3 ]\n",
            "[ 3 , 4 , 4 ]\n",
            "[ 3 , 4 , 5 ]\n",
            "[ 3 , 4 , 6 ]\n",
            "[ 3 , 5 , 1 ]\n",
            "[ 3 , 5 , 2 ]\n",
            "[ 3 , 5 , 3 ]\n",
            "[ 3 , 5 , 4 ]\n",
            "[ 3 , 5 , 5 ]\n",
            "[ 3 , 5 , 6 ]\n",
            "[ 3 , 6 , 1 ]\n",
            "[ 3 , 6 , 2 ]\n",
            "[ 3 , 6 , 3 ]\n",
            "[ 3 , 6 , 4 ]\n",
            "[ 3 , 6 , 5 ]\n",
            "[ 3 , 6 , 6 ]\n",
            "[ 4 , 1 , 1 ]\n",
            "[ 4 , 1 , 2 ]\n",
            "[ 4 , 1 , 3 ]\n",
            "[ 4 , 1 , 4 ]\n",
            "[ 4 , 1 , 5 ]\n",
            "[ 4 , 1 , 6 ]\n",
            "[ 4 , 2 , 1 ]\n",
            "[ 4 , 2 , 2 ]\n",
            "[ 4 , 2 , 3 ]\n",
            "[ 4 , 2 , 4 ]\n",
            "[ 4 , 2 , 5 ]\n",
            "[ 4 , 2 , 6 ]\n",
            "[ 4 , 3 , 1 ]\n",
            "[ 4 , 3 , 2 ]\n",
            "[ 4 , 3 , 3 ]\n",
            "[ 4 , 3 , 4 ]\n",
            "[ 4 , 3 , 5 ]\n",
            "[ 4 , 3 , 6 ]\n",
            "[ 4 , 4 , 1 ]\n",
            "[ 4 , 4 , 2 ]\n",
            "[ 4 , 4 , 3 ]\n",
            "[ 4 , 4 , 4 ]\n",
            "[ 4 , 4 , 5 ]\n",
            "[ 4 , 4 , 6 ]\n",
            "[ 4 , 5 , 1 ]\n",
            "[ 4 , 5 , 2 ]\n",
            "[ 4 , 5 , 3 ]\n",
            "[ 4 , 5 , 4 ]\n",
            "[ 4 , 5 , 5 ]\n",
            "[ 4 , 5 , 6 ]\n",
            "[ 4 , 6 , 1 ]\n",
            "[ 4 , 6 , 2 ]\n",
            "[ 4 , 6 , 3 ]\n",
            "[ 4 , 6 , 4 ]\n",
            "[ 4 , 6 , 5 ]\n",
            "[ 4 , 6 , 6 ]\n",
            "[ 5 , 1 , 1 ]\n",
            "[ 5 , 1 , 2 ]\n",
            "[ 5 , 1 , 3 ]\n",
            "[ 5 , 1 , 4 ]\n",
            "[ 5 , 1 , 5 ]\n",
            "[ 5 , 1 , 6 ]\n",
            "[ 5 , 2 , 1 ]\n",
            "[ 5 , 2 , 2 ]\n",
            "[ 5 , 2 , 3 ]\n",
            "[ 5 , 2 , 4 ]\n",
            "[ 5 , 2 , 5 ]\n",
            "[ 5 , 2 , 6 ]\n",
            "[ 5 , 3 , 1 ]\n",
            "[ 5 , 3 , 2 ]\n",
            "[ 5 , 3 , 3 ]\n",
            "[ 5 , 3 , 4 ]\n",
            "[ 5 , 3 , 5 ]\n",
            "[ 5 , 3 , 6 ]\n",
            "[ 5 , 4 , 1 ]\n",
            "[ 5 , 4 , 2 ]\n",
            "[ 5 , 4 , 3 ]\n",
            "[ 5 , 4 , 4 ]\n",
            "[ 5 , 4 , 5 ]\n",
            "[ 5 , 4 , 6 ]\n",
            "[ 5 , 5 , 1 ]\n",
            "[ 5 , 5 , 2 ]\n",
            "[ 5 , 5 , 3 ]\n",
            "[ 5 , 5 , 4 ]\n",
            "[ 5 , 5 , 5 ]\n",
            "[ 5 , 5 , 6 ]\n",
            "[ 5 , 6 , 1 ]\n",
            "[ 5 , 6 , 2 ]\n",
            "[ 5 , 6 , 3 ]\n",
            "[ 5 , 6 , 4 ]\n",
            "[ 5 , 6 , 5 ]\n",
            "[ 5 , 6 , 6 ]\n",
            "[ 6 , 1 , 1 ]\n",
            "[ 6 , 1 , 2 ]\n",
            "[ 6 , 1 , 3 ]\n",
            "[ 6 , 1 , 4 ]\n",
            "[ 6 , 1 , 5 ]\n",
            "[ 6 , 1 , 6 ]\n",
            "[ 6 , 2 , 1 ]\n",
            "[ 6 , 2 , 2 ]\n",
            "[ 6 , 2 , 3 ]\n",
            "[ 6 , 2 , 4 ]\n",
            "[ 6 , 2 , 5 ]\n",
            "[ 6 , 2 , 6 ]\n",
            "[ 6 , 3 , 1 ]\n",
            "[ 6 , 3 , 2 ]\n",
            "[ 6 , 3 , 3 ]\n",
            "[ 6 , 3 , 4 ]\n",
            "[ 6 , 3 , 5 ]\n",
            "[ 6 , 3 , 6 ]\n",
            "[ 6 , 4 , 1 ]\n",
            "[ 6 , 4 , 2 ]\n",
            "[ 6 , 4 , 3 ]\n",
            "[ 6 , 4 , 4 ]\n",
            "[ 6 , 4 , 5 ]\n",
            "[ 6 , 4 , 6 ]\n",
            "[ 6 , 5 , 1 ]\n",
            "[ 6 , 5 , 2 ]\n",
            "[ 6 , 5 , 3 ]\n",
            "[ 6 , 5 , 4 ]\n",
            "[ 6 , 5 , 5 ]\n",
            "[ 6 , 5 , 6 ]\n",
            "[ 6 , 6 , 1 ]\n",
            "[ 6 , 6 , 2 ]\n",
            "[ 6 , 6 , 3 ]\n",
            "[ 6 , 6 , 4 ]\n",
            "[ 6 , 6 , 5 ]\n",
            "[ 6 , 6 , 6 ]\n"
          ]
        }
      ]
    },
    {
      "cell_type": "code",
      "source": [
        "C=0\n",
        "# All dice_1 all pointrs are even\n",
        "for dice_1 in range(1,7):\n",
        "  if(dice_1%2==0):\n",
        "# All dice_2 all pointrs are even\n",
        "   for dice_2 in range(1,7):\n",
        "      if(dice_2%2==0):\n",
        "\n",
        "# All dice_3 all pointrs are ODD\n",
        "         for dice_3 in range(1,7):\n",
        "            if(dice_3%2==1):\n",
        "\n",
        "\n",
        "                 print('[',dice_1,',',dice_2,',',dice_3,']')\n",
        "                 C = C + 1\n",
        "                 print(C)"
      ],
      "metadata": {
        "id": "IhUo-fJsC8tn",
        "colab": {
          "base_uri": "https://localhost:8080/"
        },
        "outputId": "7989b1b5-5e60-4984-8e8e-a1d92e1c6b08"
      },
      "execution_count": 14,
      "outputs": [
        {
          "output_type": "stream",
          "name": "stdout",
          "text": [
            "[ 2 , 2 , 1 ]\n",
            "1\n",
            "[ 2 , 2 , 3 ]\n",
            "2\n",
            "[ 2 , 2 , 5 ]\n",
            "3\n",
            "[ 2 , 4 , 1 ]\n",
            "4\n",
            "[ 2 , 4 , 3 ]\n",
            "5\n",
            "[ 2 , 4 , 5 ]\n",
            "6\n",
            "[ 2 , 6 , 1 ]\n",
            "7\n",
            "[ 2 , 6 , 3 ]\n",
            "8\n",
            "[ 2 , 6 , 5 ]\n",
            "9\n",
            "[ 4 , 2 , 1 ]\n",
            "10\n",
            "[ 4 , 2 , 3 ]\n",
            "11\n",
            "[ 4 , 2 , 5 ]\n",
            "12\n",
            "[ 4 , 4 , 1 ]\n",
            "13\n",
            "[ 4 , 4 , 3 ]\n",
            "14\n",
            "[ 4 , 4 , 5 ]\n",
            "15\n",
            "[ 4 , 6 , 1 ]\n",
            "16\n",
            "[ 4 , 6 , 3 ]\n",
            "17\n",
            "[ 4 , 6 , 5 ]\n",
            "18\n",
            "[ 6 , 2 , 1 ]\n",
            "19\n",
            "[ 6 , 2 , 3 ]\n",
            "20\n",
            "[ 6 , 2 , 5 ]\n",
            "21\n",
            "[ 6 , 4 , 1 ]\n",
            "22\n",
            "[ 6 , 4 , 3 ]\n",
            "23\n",
            "[ 6 , 4 , 5 ]\n",
            "24\n",
            "[ 6 , 6 , 1 ]\n",
            "25\n",
            "[ 6 , 6 , 3 ]\n",
            "26\n",
            "[ 6 , 6 , 5 ]\n",
            "27\n"
          ]
        }
      ]
    },
    {
      "cell_type": "code",
      "source": [
        "#write a nested for loop to print a pattern of * in the shape of right angle triangle\n",
        "\n",
        "rows = 5  # You can change the number of rows as per your requirement\n",
        "\n",
        "for i in range(1, rows + 1):\n",
        "    for j in range(1, i + 1):\n",
        "        print('*', end=' ')\n",
        "    print()\n",
        "\n"
      ],
      "metadata": {
        "id": "u6QM0pi0ER2f",
        "colab": {
          "base_uri": "https://localhost:8080/"
        },
        "outputId": "aa983110-f4b4-4ed5-9e82-e4aff7d18b6e"
      },
      "execution_count": 15,
      "outputs": [
        {
          "output_type": "stream",
          "name": "stdout",
          "text": [
            "* \n",
            "* * \n",
            "* * * \n",
            "* * * * \n",
            "* * * * * \n"
          ]
        }
      ]
    }
  ]
}