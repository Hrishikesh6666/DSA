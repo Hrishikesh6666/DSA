{
  "nbformat": 4,
  "nbformat_minor": 0,
  "metadata": {
    "colab": {
      "provenance": [],
      "authorship_tag": "ABX9TyMZ1jn8u2ZnIPF6z6b66zCy",
      "include_colab_link": true
    },
    "kernelspec": {
      "name": "python3",
      "display_name": "Python 3"
    },
    "language_info": {
      "name": "python"
    }
  },
  "cells": [
    {
      "cell_type": "markdown",
      "metadata": {
        "id": "view-in-github",
        "colab_type": "text"
      },
      "source": [
        "<a href=\"https://colab.research.google.com/github/Hrishikesh6666/Data_science/blob/main/Mastering_Numpay_Array.ipynb\" target=\"_parent\"><img src=\"https://colab.research.google.com/assets/colab-badge.svg\" alt=\"Open In Colab\"/></a>"
      ]
    },
    {
      "cell_type": "markdown",
      "source": [
        "IMPORT NUMPAY"
      ],
      "metadata": {
        "id": "jqGCLiIHeQ8W"
      }
    },
    {
      "cell_type": "code",
      "source": [
        "import numpy"
      ],
      "metadata": {
        "id": "UgYTOLtzfGqQ"
      },
      "execution_count": null,
      "outputs": []
    },
    {
      "cell_type": "code",
      "execution_count": null,
      "metadata": {
        "colab": {
          "base_uri": "https://localhost:8080/"
        },
        "id": "__xHYqaJeCBe",
        "outputId": "18e3c3fa-9b80-4203-8876-93c997cba4ab"
      },
      "outputs": [
        {
          "output_type": "execute_result",
          "data": {
            "text/plain": [
              "0.6790530443409546"
            ]
          },
          "metadata": {},
          "execution_count": 5
        }
      ],
      "source": [
        "# NOTE = Random numbers are from zero to one\n",
        "numpy.random.random()\n"
      ]
    },
    {
      "cell_type": "markdown",
      "source": [
        "Heads and Tails program"
      ],
      "metadata": {
        "id": "t6CTKLSvftN_"
      }
    },
    {
      "cell_type": "code",
      "source": [
        "import numpy\n",
        "\n",
        "if numpy.random.random() < 0.5:\n",
        "\n",
        "    print(\"Heads\")               # Indent this line as well\n",
        "else:\n",
        "    print(\"Tails\")"
      ],
      "metadata": {
        "colab": {
          "base_uri": "https://localhost:8080/"
        },
        "id": "VVgH9w31f-fZ",
        "outputId": "f5510975-c6a4-4668-826a-08b4dbc821b3"
      },
      "execution_count": null,
      "outputs": [
        {
          "output_type": "stream",
          "name": "stdout",
          "text": [
            "Heads\n"
          ]
        }
      ]
    },
    {
      "cell_type": "markdown",
      "source": [
        "TO CREATE A MATRIX OF RANDOM NUMBERS"
      ],
      "metadata": {
        "id": "ePPHG0u0gk2E"
      }
    },
    {
      "cell_type": "code",
      "source": [
        "numpy.random.random((4,4))\n",
        "#we can also use (2,2),(4,4)"
      ],
      "metadata": {
        "colab": {
          "base_uri": "https://localhost:8080/"
        },
        "id": "0x858lh4gzjV",
        "outputId": "c782fdc7-2957-497a-c0b2-6866605dfb25"
      },
      "execution_count": null,
      "outputs": [
        {
          "output_type": "execute_result",
          "data": {
            "text/plain": [
              "array([[0.61794535, 0.3405384 , 0.84166902, 0.38855211],\n",
              "       [0.10740173, 0.76442429, 0.88521966, 0.63475858],\n",
              "       [0.90392633, 0.59120655, 0.07323219, 0.26043992],\n",
              "       [0.84656715, 0.11517876, 0.37280199, 0.34143683]])"
            ]
          },
          "metadata": {},
          "execution_count": 16
        }
      ]
    },
    {
      "cell_type": "code",
      "source": [
        "# Generate the number based on the range her we can define what should be the\n",
        "# (START, END, and what should be the DISTANCE)\n",
        "\n",
        "numpy.arange(1,20,2)"
      ],
      "metadata": {
        "colab": {
          "base_uri": "https://localhost:8080/"
        },
        "id": "cZWWS6NShPw0",
        "outputId": "f8156406-00d8-486e-8e7d-421df4b1fc68"
      },
      "execution_count": null,
      "outputs": [
        {
          "output_type": "execute_result",
          "data": {
            "text/plain": [
              "array([ 1,  3,  5,  7,  9, 11, 13, 15, 17, 19])"
            ]
          },
          "metadata": {},
          "execution_count": 18
        }
      ]
    },
    {
      "cell_type": "code",
      "source": [
        "# Use of (LINSPACE) to make it a line space which are equally distance\n",
        "numpy.linspace(1,20,11).astype(float)"
      ],
      "metadata": {
        "colab": {
          "base_uri": "https://localhost:8080/"
        },
        "id": "IbwpMTnQi9wp",
        "outputId": "9625b121-ca23-4725-a4d4-b6986488a6d5"
      },
      "execution_count": null,
      "outputs": [
        {
          "output_type": "execute_result",
          "data": {
            "text/plain": [
              "array([ 1. ,  2.9,  4.8,  6.7,  8.6, 10.5, 12.4, 14.3, 16.2, 18.1, 20. ])"
            ]
          },
          "metadata": {},
          "execution_count": 24
        }
      ]
    },
    {
      "cell_type": "markdown",
      "source": [
        "USE OF ARRAY IN NUMPAY0"
      ],
      "metadata": {
        "id": "wgMHNh9Cmbly"
      }
    },
    {
      "cell_type": "code",
      "source": [
        "import numpy as np"
      ],
      "metadata": {
        "id": "R8Cp4-UUjoDn"
      },
      "execution_count": 26,
      "outputs": []
    },
    {
      "cell_type": "code",
      "source": [
        "# the given matrix is stored as array\n",
        "arr = np.random.random((4,4))\n",
        "print(arr)"
      ],
      "metadata": {
        "colab": {
          "base_uri": "https://localhost:8080/"
        },
        "id": "vAGRfPdymwcZ",
        "outputId": "9c92a445-1124-451d-edec-0d37f953b4cf"
      },
      "execution_count": 28,
      "outputs": [
        {
          "output_type": "stream",
          "name": "stdout",
          "text": [
            "[[0.14323323 0.88437079 0.90502871 0.22449833]\n",
            " [0.44620073 0.60390246 0.4344     0.60296028]\n",
            " [0.14237273 0.28203314 0.35736687 0.96588298]\n",
            " [0.22215107 0.21546071 0.9947037  0.26442237]]\n"
          ]
        }
      ]
    },
    {
      "cell_type": "code",
      "source": [],
      "metadata": {
        "id": "xIwwvt2Bm6QF"
      },
      "execution_count": null,
      "outputs": []
    }
  ]
}