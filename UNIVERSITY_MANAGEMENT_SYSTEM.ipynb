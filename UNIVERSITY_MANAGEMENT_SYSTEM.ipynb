{
  "nbformat": 4,
  "nbformat_minor": 0,
  "metadata": {
    "colab": {
      "provenance": [],
      "authorship_tag": "ABX9TyNoOfHOtr7CARxX9RzspfkG",
      "include_colab_link": true
    },
    "kernelspec": {
      "name": "python3",
      "display_name": "Python 3"
    },
    "language_info": {
      "name": "python"
    }
  },
  "cells": [
    {
      "cell_type": "markdown",
      "metadata": {
        "id": "view-in-github",
        "colab_type": "text"
      },
      "source": [
        "<a href=\"https://colab.research.google.com/github/Hrishikesh6666/DSA/blob/main/UNIVERSITY_MANAGEMENT_SYSTEM.ipynb\" target=\"_parent\"><img src=\"https://colab.research.google.com/assets/colab-badge.svg\" alt=\"Open In Colab\"/></a>"
      ]
    },
    {
      "cell_type": "code",
      "execution_count": 9,
      "metadata": {
        "id": "fvBt9qyL8QGA"
      },
      "outputs": [],
      "source": [
        "dct={1234 :{'first_name': 'Satyam',\n",
        "             'last_name': 'Singh',\n",
        "             'Phone_no':'8759654565',\n",
        "             'Degree':'B-TECH',\n",
        "             'Email':'abc123@gmil.com',\n",
        "             'Batch':'2020-25'},\n",
        "     2468 :{'first_name': 'Hrishikesh',\n",
        "             'last_name':'Shingote',\n",
        "             'Phone_no':'8767269519',\n",
        "             'Degree':'B-TECH',\n",
        "             'Email':'abd134@gmil.com',\n",
        "             'Batch':'2020-25'}\n",
        "     }"
      ]
    },
    {
      "cell_type": "code",
      "source": [
        "dct"
      ],
      "metadata": {
        "colab": {
          "base_uri": "https://localhost:8080/"
        },
        "id": "yecIrTg_-dhg",
        "outputId": "79e4d938-25d2-4c65-e5c8-e36a05216fa9"
      },
      "execution_count": 6,
      "outputs": [
        {
          "output_type": "execute_result",
          "data": {
            "text/plain": [
              "{1234: {'first_name': 'Satyam',\n",
              "  'last_name': 'Singh',\n",
              "  'Phone_no': '8759654565',\n",
              "  'Degree': 'B-TECH',\n",
              "  'Email': 'abc123@gmil.com',\n",
              "  'Batch': '2020-25'},\n",
              " 2468: {'first_name': 'Hrishikesh',\n",
              "  'Last_name': 'Shingote',\n",
              "  'Phone_no': '8767269519',\n",
              "  'Degree': 'B-TECH',\n",
              "  'Email': 'abd134@gmil.com',\n",
              "  'Batch': '2020-25'}}"
            ]
          },
          "metadata": {},
          "execution_count": 6
        }
      ]
    },
    {
      "cell_type": "markdown",
      "source": [
        "DISPLAY USER DETAILS BY REGESTRATION NUMBER"
      ],
      "metadata": {
        "id": "x7sK8MXe_XDy"
      }
    },
    {
      "cell_type": "code",
      "source": [
        "reg_no=int(input(\"Enter the registration number : \"))\n",
        "print('-'*30)\n",
        "print(dct[reg_no]['first_name'])\n",
        "print(dct[reg_no]['last_name'])\n",
        "print(dct[reg_no]['Phone_no'])\n",
        "print(dct[reg_no]['Degree'])\n",
        "print(dct[reg_no]['Email'])\n",
        "print(dct[reg_no]['Batch'])"
      ],
      "metadata": {
        "colab": {
          "base_uri": "https://localhost:8080/"
        },
        "id": "rABt0Ekd_TfL",
        "outputId": "9508229b-7642-4364-b8d8-978c3a292d9d"
      },
      "execution_count": 10,
      "outputs": [
        {
          "output_type": "stream",
          "name": "stdout",
          "text": [
            "Enter the registration number : 2468\n",
            "------------------------------\n",
            "Hrishikesh\n",
            "Shingote\n",
            "8767269519\n",
            "B-TECH\n",
            "abd134@gmil.com\n",
            "2020-25\n"
          ]
        }
      ]
    },
    {
      "cell_type": "markdown",
      "source": [
        "ADDING NEW DATA DETAILS OF STUDENT INTO DATASET"
      ],
      "metadata": {
        "id": "IqPTplHnAfFX"
      }
    },
    {
      "cell_type": "code",
      "source": [
        "reg_no =int(input('reg_no  : '))\n",
        "first_name=input('first_name  : ')\n",
        "last_name=input('last_name  : ')\n",
        "Phone_no=input('Phone_no  : ')\n",
        "Degree=input('Degree  : ')\n",
        "Email=input('Email  : ')\n",
        "Batch=input('Batch  : ')\n",
        "\n",
        "temp={}\n",
        "temp['first_name']=first_name\n",
        "temp['last_name']=last_name\n",
        "temp['Phone_no']=Phone_no\n",
        "temp['Degree']=Degree\n",
        "temp['Email']=Email\n",
        "temp['Batch']=Batch\n",
        "\n",
        "dct[reg_no]=temp"
      ],
      "metadata": {
        "colab": {
          "base_uri": "https://localhost:8080/"
        },
        "id": "s9uwKc8mAdRi",
        "outputId": "9893b792-93ff-4fb2-c730-4881b0b3ba50"
      },
      "execution_count": 13,
      "outputs": [
        {
          "name": "stdout",
          "output_type": "stream",
          "text": [
            "reg_no  : 36912\n",
            "first_name  : Harshita\n",
            "last_name  : Solenkey\n",
            "Phone_no  : 8852669545\n",
            "Degree  : B-tech\n",
            "Email  : efg345@gmail.com\n",
            "Batch  : 2020-25\n"
          ]
        }
      ]
    },
    {
      "cell_type": "code",
      "source": [
        "dct"
      ],
      "metadata": {
        "colab": {
          "base_uri": "https://localhost:8080/"
        },
        "id": "NGn8W8bgBhYI",
        "outputId": "a4bf744d-081f-40ae-99ec-80cadaf8429a"
      },
      "execution_count": 15,
      "outputs": [
        {
          "output_type": "execute_result",
          "data": {
            "text/plain": [
              "{1234: {'first_name': 'Satyam',\n",
              "  'last_name': 'Singh',\n",
              "  'Phone_no': '8759654565',\n",
              "  'Degree': 'B-TECH',\n",
              "  'Email': 'abc123@gmil.com',\n",
              "  'Batch': '2020-25'},\n",
              " 2468: {'first_name': 'Hrishikesh',\n",
              "  'last_name': 'Shingote',\n",
              "  'Phone_no': '8767269519',\n",
              "  'Degree': 'B-TECH',\n",
              "  'Email': 'abd134@gmil.com',\n",
              "  'Batch': '2020-25'},\n",
              " 36912: {'first_name': 'Harshita',\n",
              "  'last_name': 'Solenkey',\n",
              "  'Phone_no': '8852669545',\n",
              "  'Degree': 'B-tech',\n",
              "  'Email': 'efg345@gmail.com',\n",
              "  'Batch': '2020-25'}}"
            ]
          },
          "metadata": {},
          "execution_count": 15
        }
      ]
    },
    {
      "cell_type": "markdown",
      "source": [
        "SECTION DETAIL"
      ],
      "metadata": {
        "id": "HV2GFfChC-e-"
      }
    },
    {
      "cell_type": "code",
      "source": [],
      "metadata": {
        "id": "O1QnyeJNC7JS"
      },
      "execution_count": null,
      "outputs": []
    }
  ]
}