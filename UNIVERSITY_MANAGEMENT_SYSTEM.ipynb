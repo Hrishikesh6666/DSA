{
  "nbformat": 4,
  "nbformat_minor": 0,
  "metadata": {
    "colab": {
      "provenance": [],
      "authorship_tag": "ABX9TyOcLPMwAkh71+glFcde5Lgf",
      "include_colab_link": true
    },
    "kernelspec": {
      "name": "python3",
      "display_name": "Python 3"
    },
    "language_info": {
      "name": "python"
    }
  },
  "cells": [
    {
      "cell_type": "markdown",
      "metadata": {
        "id": "view-in-github",
        "colab_type": "text"
      },
      "source": [
        "<a href=\"https://colab.research.google.com/github/Hrishikesh6666/DSA/blob/main/UNIVERSITY_MANAGEMENT_SYSTEM.ipynb\" target=\"_parent\"><img src=\"https://colab.research.google.com/assets/colab-badge.svg\" alt=\"Open In Colab\"/></a>"
      ]
    },
    {
      "cell_type": "code",
      "execution_count": 6,
      "metadata": {
        "id": "fvBt9qyL8QGA"
      },
      "outputs": [],
      "source": [
        "dct={1234 :{'first_name' : 'Satyam',\n",
        "             'last_name' : 'Singh',\n",
        "             'Phone_no'  :'8759654565',\n",
        "             'Degree'    :'B-TECH',\n",
        "             'Email'     :'abc123@gmil.com',\n",
        "             'Batch'     :'2020-25'},\n",
        "\n",
        "     2468 :{'first_name' : 'Hrishikesh',\n",
        "             'last_name' :'Shingote',\n",
        "             'Phone_no'  :'8767269519',\n",
        "             'Degree'    :'B-TECH',\n",
        "             'Email'     :'abd134@gmil.com',\n",
        "             'Batch'     :'2020-25'}\n",
        "     }"
      ]
    },
    {
      "cell_type": "code",
      "source": [
        "dct"
      ],
      "metadata": {
        "colab": {
          "base_uri": "https://localhost:8080/"
        },
        "id": "yecIrTg_-dhg",
        "outputId": "a67da9d3-780b-41a1-ccda-fceb5bd796a9"
      },
      "execution_count": 7,
      "outputs": [
        {
          "output_type": "execute_result",
          "data": {
            "text/plain": [
              "{1234: {'first_name': 'Satyam',\n",
              "  'last_name': 'Singh',\n",
              "  'Phone_no': '8759654565',\n",
              "  'Degree': 'B-TECH',\n",
              "  'Email': 'abc123@gmil.com',\n",
              "  'Batch': '2020-25'},\n",
              " 2468: {'first_name': 'Hrishikesh',\n",
              "  'last_name': 'Shingote',\n",
              "  'Phone_no': '8767269519',\n",
              "  'Degree': 'B-TECH',\n",
              "  'Email': 'abd134@gmil.com',\n",
              "  'Batch': '2020-25'}}"
            ]
          },
          "metadata": {},
          "execution_count": 7
        }
      ]
    },
    {
      "cell_type": "markdown",
      "source": [
        "DISPLAY USER DETAILS BY REGESTRATION NUMBER"
      ],
      "metadata": {
        "id": "x7sK8MXe_XDy"
      }
    },
    {
      "cell_type": "code",
      "source": [
        "reg_no = int(input('Enter the registration no: '))\n",
        "\n",
        "print('-'*30)\n",
        "print(dct[reg_no]['first_name'])\n",
        "print(dct[reg_no]['last_name'])\n",
        "print(dct[reg_no]['Phone_no'])\n",
        "print(dct[reg_no]['Degree'])\n",
        "print(dct[reg_no]['Email'])\n",
        "print(dct[reg_no]['Batch'])"
      ],
      "metadata": {
        "id": "B3rm-SeqGO5x",
        "outputId": "cfc636f4-9354-4ad9-e1aa-666bc4301099",
        "colab": {
          "base_uri": "https://localhost:8080/"
        }
      },
      "execution_count": 13,
      "outputs": [
        {
          "output_type": "stream",
          "name": "stdout",
          "text": [
            "Enter the registration no: 2468\n",
            "------------------------------\n",
            "Hrishikesh\n",
            "Shingote\n",
            "8767269519\n",
            "B-TECH\n",
            "abd134@gmil.com\n",
            "2020-25\n"
          ]
        }
      ]
    },
    {
      "cell_type": "markdown",
      "source": [
        "ADDING NEW DATA DETAILS OF STUDENT INTO DATASET"
      ],
      "metadata": {
        "id": "IqPTplHnAfFX"
      }
    },
    {
      "cell_type": "code",
      "source": [
        "reg_no     = int(input('Reg No       : '))\n",
        "first_name = str(input('First name   : '))\n",
        "last_name  = str(input('Last name    : '))\n",
        "cell       = int(input('Phone number : '))\n",
        "mail       = str(input('Mail ID      : '))\n",
        "degree     = str(input('Degree       : '))\n",
        "batch      = str(input('Batch        : '))\n",
        "\n",
        "temp = {}\n",
        "temp['first_name'] = first_name\n",
        "temp['last_name'] = last_name\n",
        "temp['cell'] = cell\n",
        "temp['mail'] = mail\n",
        "temp['degree'] = degree\n",
        "temp['batch'] = batch\n",
        "\n",
        "dct[reg_no] = temp"
      ],
      "metadata": {
        "id": "7c7MPqjXHDkY",
        "outputId": "07e5dd07-4c2c-4cdf-bc73-5065987c9f9c",
        "colab": {
          "base_uri": "https://localhost:8080/"
        }
      },
      "execution_count": 14,
      "outputs": [
        {
          "name": "stdout",
          "output_type": "stream",
          "text": [
            "Reg No       : 4812\n",
            "First name   : Harshita\n",
            "Last name    : solenkey\n",
            "Phone number : 8866452362\n",
            "Mail ID      : efg456@gmail.com\n",
            "Degree       : B-Tech\n",
            "Batch        : 2020-25\n"
          ]
        }
      ]
    },
    {
      "cell_type": "code",
      "source": [
        "dct"
      ],
      "metadata": {
        "id": "xWcU5TDfHXaG",
        "outputId": "cf7105d5-e6c4-4e2c-8c22-2f2ed4c7fcbd",
        "colab": {
          "base_uri": "https://localhost:8080/"
        }
      },
      "execution_count": 15,
      "outputs": [
        {
          "output_type": "execute_result",
          "data": {
            "text/plain": [
              "{1234: {'first_name': 'Satyam',\n",
              "  'last_name': 'Singh',\n",
              "  'Phone_no': '8759654565',\n",
              "  'Degree': 'B-TECH',\n",
              "  'Email': 'abc123@gmil.com',\n",
              "  'Batch': '2020-25'},\n",
              " 2468: {'first_name': 'Hrishikesh',\n",
              "  'last_name': 'Shingote',\n",
              "  'Phone_no': '8767269519',\n",
              "  'Degree': 'B-TECH',\n",
              "  'Email': 'abd134@gmil.com',\n",
              "  'Batch': '2020-25'},\n",
              " 4812: {'first_name': 'Harshita',\n",
              "  'last_name': 'solenkey',\n",
              "  'cell': 8866452362,\n",
              "  'mail': 'efg456@gmail.com',\n",
              "  'degree': 'B-Tech',\n",
              "  'batch': '2020-25'}}"
            ]
          },
          "metadata": {},
          "execution_count": 15
        }
      ]
    },
    {
      "cell_type": "markdown",
      "source": [
        "SECTION DETAIL"
      ],
      "metadata": {
        "id": "HV2GFfChC-e-"
      }
    },
    {
      "cell_type": "code",
      "source": [
        "section = {'K1632' : {'hod' : 12545, 'degree' : 'CSE', 'teacher' : [12255, 12343, 15434,13242]},\n",
        "           'K1631' : {'hod' : 12544, 'degree' : 'CSE', 'teacher' : [12343, 15434,12255]},\n",
        "           'K1630' : {'hod' : 12543, 'degree' : 'CSE', 'teacher' : [13242,12343]}}"
      ],
      "metadata": {
        "id": "O1QnyeJNC7JS"
      },
      "execution_count": 16,
      "outputs": []
    },
    {
      "cell_type": "markdown",
      "source": [
        "Teachers Details"
      ],
      "metadata": {
        "id": "DiAOVbIcH9HE"
      }
    },
    {
      "cell_type": "code",
      "source": [
        "teacher = { 12543 : {'first_name':'Ashish',\n",
        "                 'mail' : 'abc@gmail.com'},\n",
        "      12255 :  {'first_name':'Abhishek',\n",
        "                 'mail' : 'abc@gmail.com'},\n",
        "      12256 :  {'first_name':'Abhi',\n",
        "                 'mail' : 'abc@gmail.com'},\n",
        "      12343 : {'first_name':'Abhimanyu',\n",
        "                 'mail' : 'abc@gmail.com'},\n",
        "      15434 : {'first_name':'Karan',\n",
        "                 'mail' : 'abc@gmail.com'},\n",
        "      13242 : {'first_name':'Arjun',\n",
        "                 'mail' : 'abc@gmail.com'},\n",
        "      12544 : {'first_name':'Ayush',\n",
        "                 'mail' : 'abc@gmail.com'},\n",
        "      12543 : {'first_name':'Abkush',\n",
        "                 'mail' : 'abc@gmail.com'},\n",
        "      12348 : {'first_name':'Bharat',\n",
        "                 'mail' : 'abc@gmail.com'}}"
      ],
      "metadata": {
        "id": "yFVj2KDrHtSc"
      },
      "execution_count": 18,
      "outputs": []
    },
    {
      "cell_type": "code",
      "source": [
        "print(\"HOD : \", teacher[section['K1631']['hod']]['first_name'],'(',section['K1631']['hod'],')')\n",
        "print(\"Degree : \", section['K1631']['degree'])\n",
        "\n",
        "print('--Teachers--')\n",
        "for i in section['K1631']['teacher']:\n",
        "    print(teacher[i]['first_name'])\n",
        "\n",
        "print('-'*10)"
      ],
      "metadata": {
        "id": "ES5kYo1SII_z",
        "outputId": "3660008a-6e87-48c4-fcbf-f4a099175a63",
        "colab": {
          "base_uri": "https://localhost:8080/"
        }
      },
      "execution_count": 19,
      "outputs": [
        {
          "output_type": "stream",
          "name": "stdout",
          "text": [
            "HOD :  Ayush ( 12544 )\n",
            "Degree :  CSE\n",
            "--Teachers--\n",
            "Abhimanyu\n",
            "Karan\n",
            "Abhishek\n",
            "----------\n"
          ]
        }
      ]
    },
    {
      "cell_type": "code",
      "source": [
        " 12348"
      ],
      "metadata": {
        "id": "WCf7nf_hIPOd",
        "outputId": "163b41ab-3167-415e-adb1-42becc792f71",
        "colab": {
          "base_uri": "https://localhost:8080/"
        }
      },
      "execution_count": 21,
      "outputs": [
        {
          "output_type": "execute_result",
          "data": {
            "text/plain": [
              "12348"
            ]
          },
          "metadata": {},
          "execution_count": 21
        }
      ]
    },
    {
      "cell_type": "code",
      "source": [],
      "metadata": {
        "id": "A1f1BkUeIU8k"
      },
      "execution_count": null,
      "outputs": []
    }
  ]
}