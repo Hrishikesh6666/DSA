{
  "nbformat": 4,
  "nbformat_minor": 0,
  "metadata": {
    "colab": {
      "provenance": [],
      "authorship_tag": "ABX9TyOaGe2zTwlzfQAl9NLkp/zh",
      "include_colab_link": true
    },
    "kernelspec": {
      "name": "python3",
      "display_name": "Python 3"
    },
    "language_info": {
      "name": "python"
    }
  },
  "cells": [
    {
      "cell_type": "markdown",
      "metadata": {
        "id": "view-in-github",
        "colab_type": "text"
      },
      "source": [
        "<a href=\"https://colab.research.google.com/github/Hrishikesh6666/Data_science/blob/main/Week3.ipynb\" target=\"_parent\"><img src=\"https://colab.research.google.com/assets/colab-badge.svg\" alt=\"Open In Colab\"/></a>"
      ]
    },
    {
      "cell_type": "markdown",
      "source": [
        "FUNCTIONS IN PYTHOIN"
      ],
      "metadata": {
        "id": "Lb6Ac9nrTen7"
      }
    },
    {
      "cell_type": "code",
      "source": [
        "def power():\n",
        "  print(\"Hello world\")\n",
        "  power()"
      ],
      "metadata": {
        "id": "eubSJsMFToKf"
      },
      "execution_count": 1,
      "outputs": []
    },
    {
      "cell_type": "code",
      "source": [
        "def power():\n",
        "  print(\"Hello world\")\n",
        "\n",
        "  for i in  range (6):\n",
        "    power()"
      ],
      "metadata": {
        "id": "GaE6iSBiT6v8"
      },
      "execution_count": 2,
      "outputs": []
    },
    {
      "cell_type": "code",
      "source": [
        "pow_= 5\n",
        "num =6\n",
        "n = 1\n",
        "for i in range(pow_):\n",
        "  n = n * num\n",
        "  print(n,num)"
      ],
      "metadata": {
        "colab": {
          "base_uri": "https://localhost:8080/"
        },
        "id": "5EISMyaD4_y7",
        "outputId": "7bbd4079-d8dd-43f1-b178-8f19ef77bf78"
      },
      "execution_count": 3,
      "outputs": [
        {
          "output_type": "stream",
          "name": "stdout",
          "text": [
            "6 6\n",
            "36 6\n",
            "216 6\n",
            "1296 6\n",
            "7776 6\n"
          ]
        }
      ]
    },
    {
      "cell_type": "code",
      "source": [
        "# Create a function named add () that takes two numbers as argument and return their sum\n",
        "def add(num1, num2):\n",
        "    return num1 + num2\n",
        "\n",
        "# Example usage:\n",
        "result = add(5, 3)\n",
        "print(result)  # Output: 8\n"
      ],
      "metadata": {
        "colab": {
          "base_uri": "https://localhost:8080/"
        },
        "id": "-4PaYQLLARt-",
        "outputId": "1b598a24-a1a2-491e-ddf8-4e236365cd30"
      },
      "execution_count": 4,
      "outputs": [
        {
          "output_type": "stream",
          "name": "stdout",
          "text": [
            "8\n"
          ]
        }
      ]
    },
    {
      "cell_type": "code",
      "source": [
        "## Create a function named add () that takes two numbers as argument and return their sum taking input from User\n",
        "def add():\n",
        "    # Taking input from the user for the first number\n",
        "    num1 = float(input(\"Enter the first number: \"))\n",
        "\n",
        "    # Taking input from the user for the second number\n",
        "    num2 = float(input(\"Enter the second number: \"))\n",
        "\n",
        "    # Calculating the sum\n",
        "    result = num1 + num2\n",
        "\n",
        "    # Returning the sum\n",
        "    return result\n",
        "\n",
        "# Calling the add function and printing the result\n",
        "sum_result = add()\n",
        "print(\"The sum is:\", sum_result)\n"
      ],
      "metadata": {
        "colab": {
          "base_uri": "https://localhost:8080/"
        },
        "id": "3mLGM0YyBYWX",
        "outputId": "7587e600-7d92-48a8-f562-f86a6d1622c1"
      },
      "execution_count": 5,
      "outputs": [
        {
          "output_type": "stream",
          "name": "stdout",
          "text": [
            "Enter the first number: 85\n",
            "Enter the second number: 52\n",
            "The sum is: 137.0\n"
          ]
        }
      ]
    },
    {
      "cell_type": "markdown",
      "source": [
        "# Liat in PYTHON\n"
      ],
      "metadata": {
        "id": "DOQjIP9L9NM7"
      }
    },
    {
      "cell_type": "code",
      "source": [
        "# code\n",
        "#  Roll No   - 0\n",
        "#  Name      - 1\n",
        "#  Hindi     - 2\n",
        "#  English   - 3\n",
        "#  Maths     - 4\n",
        "#  Science   - 5\n",
        "Data = [ [1,'pratik',60,75,65,90],\n",
        "         [2,'Ram', 65,75,95,95],\n",
        "         [3,'Hrishikesh',79,85,90,89],\n",
        "         [4,'Pranav', 65,75,95,95]]"
      ],
      "metadata": {
        "id": "OpwFEJwv9kCN"
      },
      "execution_count": 6,
      "outputs": []
    },
    {
      "cell_type": "code",
      "source": [
        "# Student Details Based on Their Roll No Include their Average and Totel Marks\n",
        "roll_NO =int(input(\"Enter your Roll NO :  \"))\n",
        "\n",
        "for student in Data :\n",
        "   if (student [0]==roll_NO):\n",
        "     print(\"name      :\",student[1])\n",
        "     print(\"Hindi     :\",student[2])\n",
        "     print(\"English   :\",student[3])\n",
        "     print(\"Maths     :\",student[4])\n",
        "     print(\"Science   :\",student[5])\n",
        "     print('_'*25)\n",
        "     print(\"Total  : \",sum(student[2:]))\n",
        "     print('_'*25)\n",
        "     print(\"Averge  :\",sum(student[2:])/len(student[2:]))\n"
      ],
      "metadata": {
        "id": "61REMCyZ_mOy",
        "colab": {
          "base_uri": "https://localhost:8080/"
        },
        "outputId": "9853a1c7-0f75-427b-a508-ffb702030cc8"
      },
      "execution_count": 7,
      "outputs": [
        {
          "output_type": "stream",
          "name": "stdout",
          "text": [
            "Enter your Roll NO :  3\n",
            "name      : Hrishikesh\n",
            "Hindi     : 79\n",
            "English   : 85\n",
            "Maths     : 90\n",
            "Science   : 89\n",
            "_________________________\n",
            "Total  :  343\n",
            "_________________________\n",
            "Averge  : 85.75\n"
          ]
        }
      ]
    },
    {
      "cell_type": "code",
      "source": [
        "# Average and Total Marks in English And Name of Student\n",
        "eng = []\n",
        "for i in Data:\n",
        "  eng.append(i[3])\n",
        "\n",
        "#Print the list of english marks\n",
        "print(eng)\n",
        "\n",
        "#calculate and print the average English Marks\n",
        "ave_eng = sum(eng)/len(eng)\n",
        "print(\"Average English Marks :\",ave_eng)"
      ],
      "metadata": {
        "id": "XpAfSgG7FYWn",
        "colab": {
          "base_uri": "https://localhost:8080/"
        },
        "outputId": "2453ab7a-a2ee-40d8-f4e2-8944a053fbde"
      },
      "execution_count": 10,
      "outputs": [
        {
          "output_type": "stream",
          "name": "stdout",
          "text": [
            "[75, 75, 85, 75]\n",
            "Average English Marks : 77.5\n"
          ]
        }
      ]
    },
    {
      "cell_type": "code",
      "source": [],
      "metadata": {
        "id": "yEHRADexc2Pc"
      },
      "execution_count": null,
      "outputs": []
    }
  ]
}